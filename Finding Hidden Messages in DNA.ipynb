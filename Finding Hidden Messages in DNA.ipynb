{
 "cells": [
  {
   "cell_type": "code",
   "execution_count": 1,
   "metadata": {},
   "outputs": [],
   "source": [
    "import pandas as pd\n",
    "import numpy as np\n",
    "import matplotlib.pyplot as plt\n",
    "%matplotlib inline"
   ]
  },
  {
   "cell_type": "markdown",
   "metadata": {},
   "source": [
    "## DnaA Boxes"
   ]
  },
  {
   "attachments": {},
   "cell_type": "markdown",
   "metadata": {},
   "source": [
    "DnaA protein are binded to regions called dnaA boxes in the region knowed as oric, where the replication processes begin. We will start with a bacterium called Vibrio cholerae, and then design a computational approach for finding ori in other bacteria genomes.\n",
    "Here is the nucleotide sequence appearing in the ori of Vibrio cholerae:\n",
<<<<<<< HEAD
    "<img src=\"data/Screenshot_20200712_003201.png\">"
=======
    "![https://github.com/nilbsongalindo/bioinformatics_specialization/blob/master/data/Screenshot_20200712_003201.png](attachment:Screenshot_20200712_003201.png)"
>>>>>>> 65ceb9e85f3d895f608f28573bb5be99b427905d
   ]
  },
  {
   "cell_type": "code",
   "execution_count": null,
   "metadata": {},
   "outputs": [],
   "source": []
  }
 ],
 "metadata": {
  "kernelspec": {
   "display_name": "Python 3",
   "language": "python",
   "name": "python3"
  },
  "language_info": {
   "codemirror_mode": {
    "name": "ipython",
    "version": 3
   },
   "file_extension": ".py",
   "mimetype": "text/x-python",
   "name": "python",
   "nbconvert_exporter": "python",
   "pygments_lexer": "ipython3",
   "version": "3.7.3"
  }
 },
 "nbformat": 4,
 "nbformat_minor": 2
}
