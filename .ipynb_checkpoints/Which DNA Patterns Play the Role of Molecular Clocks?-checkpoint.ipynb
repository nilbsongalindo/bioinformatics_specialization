{
 "cells": [
  {
   "cell_type": "markdown",
   "metadata": {},
   "source": [
    "## Do We Have a \"Clock\" Gene?\n",
    "\n",
    "The ordinary activities in animals and plants organisms follow some daily schedule. This kind of internal timekeeper are called circadian clock. The circadian clock can malfunction, resulting in a genetic disease known as delayed sleep-phase syndrome (DSPS). But there's must be some kind of hidden message inside of animals/plants genes to tell them when they should slow down or increase the production of certain proteins.\n",
    "\n",
    "Let's keep focus on plants, because keep track of day time is a life or death question. They genes must somehow know what time it is in order to change their gene transcript production, or gene expression, throughout the day.\n",
    "There's about three plant genes called LHY, CCA1, and TOC1, are the clock’s master timekeepers. They encode regulatory proteins that are often controlled by external factors (e.g., nutrient availability or sunlight) in order to allow organisms to adjust their gene expression.\n",
    "\n",
    "The circadian clock regulation in plants  happens as follows. TOC1 promotes the expression of LHY and CCA1, whereas LHY and CCA1 repress the expression of TOC1. In the morning, sunlight activates the transcription of LHY and CCA1, triggering the repression of TOC1 transcription. As light diminishes, so does the production of LHY and CCA1, which in turn do not repress TOC1 any more. Transcription of TOC1 peaks at night and starts promoting the transcription of LHY and CCA1, which in turn repress the transcription of TOC1, and the cycle begins again. \n",
    "\n",
    "\n",
    "LHY, CCA1, and TOC1 are able to control the transcription of other genes because the regulatory proteins that they encode are transcription factors, or master regulatory proteins that turn other genes on and off. A transcription factor regulates a gene by binding to a specific short DNA interval called a regulatory motif, or transcription factor binding site, in the gene's upstream region, a 600-1000 nucleotide-long region preceding the start of the gene. For example, CCA1 binds to AAAAAATCT in the upstream region of many genes regulated by CCA1.\n",
    "\n",
    "\n",
    "## Motif Finding\n",
    "\n",
    "Putting a 15-mers hidden message at some random positions in each one of the Dna strands, we could locate them all using our frequent words algorithm.\n",
    "\n",
    "![Motif](data/motif.png)\n",
    "\n",
    "But if we realize some mutation in the sequence before insert it into the strand changing the nucleotides at four randomly selected positions within each implanted 15-mer, we could locate them with our frequent words algorithm?\n",
    "\n",
    "![Motif2](data/motif2.png)\n",
    "\n",
    "The answer is no. Our previous solution to the frequent words problem couldn't find them, since the AAAAAAAAGGGGGGG pattern don't even appears in the strands. But our solution to the frequent words problem with mismatches could do the job, but this algorithm is likely to become too slow when searching for the implanted motif above, which is longer and has more mutations, so it became inadequate in real biological applications.\n",
    "\n",
    "Furthermore, the Frequent Words Problem is inadequate because it does not correctly model the biological problem of motif finding. A DnaA box is a pattern that clumps, or appears frequently, within a relatively short interval of the genome. In contrast, a regulatory motif is a pattern that appears at least once (perhaps with variation) in each of many different regions that are scattered throughout the genome.\n",
    "\n",
    "## From motifs to profile matrices and consensus strings\n",
    "\n",
    "THe implanted motif problem has some limitations. DNA array experiments are  noisy, and some genes identified by these experiments have nothing to do with the circadian clock. For such noisy datasets, any algorithm for the Implanted Motif Problem would fail, because as long as a single sequence does not contain the transcription factor binding site, a (k, d)-motif does not exist.\n",
    "\n",
    "So let's score individual instances of motifs depending on how similar they are to an “ideal” motif, but since an ideal motif is unknown, we attempt to select a k-mer from each string and score these k-mers depending on how similar they are to each other\n",
    "\n",
    "Let's consider a list of t DNA strings Dna, where each string has length n, and select a k-mer from each string to form a collection Motifs, which we represent as a t x * k motif matrix. We indicate the most frequent nucleotide in each column of the motif matrix by upper case letters. If there are multiple most frequent nucleotides in a column, then we arbitrarily select one of them to break the tie. \n",
    "\n",
    "![Matrix](data/matrix.png)\n",
    "\n",
    "By varying the choice of k-mers in each sequence, we can construct a large number of different motif matrices from a given sample of DNA sequences. Our goal is to select k-mers resulting in the most “conserved” motif matrix, meaning the matrix with the most upper case letters (and thus the fewest number of lower case letters). Leaving aside the question of how we select such k-mers, we will first focus on how to score the resulting motif matrices, defining Score(Motifs) as the number of unpopular (lower case) letters in the motif matrix Motifs. Our goal is to find a collection of k-mers that minimizes this score.\n",
    "\n",
    "![Matrix2](data/score.png)\n",
    "\n",
    "Let's build a 4 × k count matrix Count(Motifs) counting the number of occurrences of each nucleotide in each column of the motif matrix. The (i, j)-th element of Count(Motifs) stores the number of times that nucleotide i appears in column j of Motifs. After that,  divide all of the elements in the count matrix by t, the number of rows in Motifs. This results in a profile matrix P = Profile(Motifs) for which $P_{i,j}$ is the frequency of the i-th nucleotide in the j-th column of the motif matrix. Note that the elements of any column of the profile matrix sum to 1.\n",
    "This way, we are able to form a consensus string, denoted Consensus(Motifs), from the most popular letters in each column of the motif matrix. If we select Motifs correctly from the collection of upstream regions, then Consensus(Motifs) provides an ideal candidate regulatory motif for these regions.\n",
    "\n",
    "\n",
    "![Matrix3](data/countprofilecon.png)\n",
    "\n",
    "## Towards a more adequate motif scoring function\n",
    "\n",
    "For many biological motifs, certain positions feature two nucleotides with roughly the same ability to bind to a transcription factor. For example, the sixteen nucleotide-long CSRE transcription factor binding site in the yeast species S. cerevisiae consists of five strongly conserved positions (1, 8, 9, 12, and 13) in addition to eleven weakly conserved positions, each of which features two nucleotides with similar frequencies.\n",
    "\n",
    "![Matrix4](data/consensus.png)\n",
    "\n",
    "\n",
    "Following this example, a more appropriate representation of the consensus string TCGGGGATTTCC for the NF-κB binding sites should include viable alternatives to the most popular nucleotides in each column. For example, nucleotides with frequencies equal to or exceeding 0.4. In this sense, the last column (6 C, 4 T) in the NF-κB motif matrix (reproduced below) is “more conserved” than the 2nd column (6 C, 2 A, 2 T) and should receive a lower score.\n",
    "\n",
    "![Matrix5](data/ex.png)\n",
    "\n",
    "## Entropy and the motif logo\n",
    "\n",
    "Every column of Profile(Motifs) corresponds to a probability distribution, or a collection of nonnegative numbers that sum to 1. \n",
    "\n",
    "Entropy is a measure of the uncertainty of a probability distribution (p1, …, pN), and is defined as follows:\n",
    "\n",
    "![entropy](data/entropy.png)\n",
    "\n",
    "On the other hand, a column with equally-likely nucleotides (all probabilities equal to 1/4) has maximum possible entropy −4 · 1/4 · log2(1/4) = 2. In general, the more conserved the column, the smaller its entropy. Thus, entropy offers an improved method of scoring motif matrices: the entropy of a motif matrix is defined as the sum of the entropies of its columns. In this book, we will continue to use Score(Motifs) for simplicity, but the entropy score is used more often in practice.\n",
    "\n",
    "On the other hand, a column with equally-likely nucleotides (all probabilities equal to 1/4) has maximum possible entropy −4 · 1/4 · log2(1/4) = 2. In general, the more conserved the column, the smaller its entropy. Thus, entropy offers an improved method of scoring motif matrices: the entropy of a motif matrix is defined as the sum of the entropies of its columns. In this book, we will continue to use Score(Motifs) for simplicity, but the entropy score is used more often in practice.\n",
    "\n",
    "![entropydia](data/entropydia.png)\n",
    "\n",
    "## The Motif Finding Problem\n",
    "\n",
    "Given a collection of strings, find a set of k-mers, one from each string, that minimizes the score of the resulting motif.\n",
    "\n",
    "Because brute force motif search is inefficient, we will think about motif finding in a different way. Instead of exploring all Motifs in Dna and deriving the consensus string from Motifs afterwards:\n",
    "\n",
    "Motifs → Consensus(Motifs)\n",
    "\n",
    "we will explore all potential k-mer consensus strings first and then find the best possible collection Motifs for each consensus string:\n",
    "\n",
    "Consensus(Motifs) → Motifs.\n",
    "\n",
    "Firstly, we need to find an alternative way of computing Score(Motifs). So far, we i've calculated the Score(Motifs) as the number of lower case letters in the motif matrix, column-by-column.\n",
    "\n",
    "The figure below shows us how Score(Motifs) can just as easily be computed row-by-row (3 + 4 + 2 + 4 + 3 + 2 + 3 + 2 + 4 + 3 = 30). Note that each element in the latter sum represents the number of mismatches between the consensus string TCGGGGATTTCC and a motif in the corresponding row of the motif matrix, i.e., the Hamming distance between these strings.\n",
    "\n",
    "For the first row of the motif matrix below, d(TCGGGGATTTCC, TCGGGGgTTTtt) = 3\n",
    "\n",
    "![rowbyrow](data/rowbyrow.png)\n",
    "\n",
    "\n",
    "Given a collection of k-mers Motifs = {Motif1, … , Motift} and a k-mer Pattern, we now define d(Pattern, Motifs) as the sum of Hamming distances between Pattern and each $Motif_{i}$:\n",
    "\n",
    "![patternmotif](data/patternmotif.png)\n",
    "\n",
    "Because Score(Motifs) corresponds to counting the lower case elements of Motifs column-by-column and d(Consensus(Motifs), Motifs) corresponds to counting these elements row-by-row, we obtain that:\n",
    "\n",
    "Score(Motifs) = d(Consensus(Motifs), Motifs).\n",
    "\n",
    "This equation gives us an idea. Instead of searching for a collection of k-mers Motifs minimizing Scoring(Motifs), let's instead search for a potential consensus string Pattern minimizing d(Pattern, Motifs) among all possible k-mers Pattern and all possible choices of k-mers Motifs in Dna. This problem is equivalent to the Motif Finding Problem.\n",
    "\n",
    "##  The Median String Problem\n",
    "\n",
    "The key observation for solving the Equivalent Motif Finding Problem is that, given Pattern, we don’t need to explore all possible collections Motifs in order to minimize d(Pattern, Motifs).\n",
    "To explain how this can be done, we define Motifs(Pattern, Dna) as a collection of k-mers that minimizes d(Pattern, Motifs) for a given Pattern and all possible sets of k-mers Motifs in Dna. For example, for the strings Dna shown below, the five colored 3-mers represent Motifs(AAA, Dna).\n",
    "\n",
    "![medianstring](data/medianstring.png)\n",
    "\n",
    "The reason why we don’t need to consider all possible collections Motifs in Dna = Dna1, ..., Dnat is that we can generate the k-mers in Motifs(Pattern, Dna) one at a time; that is, we can select a k-mer in Dnai independently of selecting k-mers in all other strings in Dna. Given a k-mer Pattern and a longer string Text, we use d(Pattern, Text) to denote the minimum Hamming distance between Pattern and any k-mer in Text,\n",
    "\n",
    "![min](data/min.png)\n",
    "\n",
    "For example, d(GATTCTCA, GCAAAGACGCTGACCAA) = 3.\n",
    "A k-mer in Text that achieves the minimum Hamming distance with Pattern is denoted Motif(Pattern, Text). For this previous example, Motif(GATTCTCA, GCAAAGACGCTGACCAA) = GACGCTGA.\n",
    "\n",
    "There may be multiple k-mers in Text that achieve the minimum Hamming distance with Pattern. If there are multiple k-mers in Text having minimum Hamming distance with Pattern, we select the first such k-mer in Text as Motif(Pattern, Text).\n",
    "\n",
    "Given a k-mer Pattern and a set of strings Dna = {Dna1, … , Dnat}, we define d(Pattern, Dna) as the sum of distances between Pattern and all strings in Dna,\n",
    "\n",
    "![distancepatterndna](data/distancepatterndna.png)\n",
    "\n",
    "For example, for the strings Dna shown below, d(AAA, Dna) = 1 + 1 + 2 + 0 + 1 = 5.\n",
    "\n",
    "![exampledistance.png](data/exampledistance.png)\n",
    "\n",
    "Our goal is to find a k-mer Pattern that minimizes d(Pattern, Dna) over all k-mers Pattern, the same task that the Equivalent Motif Finding Problem is trying to achieve. We call such a k-mer a median string for Dna. We call such a k-mer a median string for Dna.\n",
    "\n",
    "Notice that finding a median string requires solving a double minimization problem. We must find a k-mer Pattern that minimizes d(Pattern, Dna), where this function is itself computed by taking a minimum over all choices of k-mers from each string in Dna.\n",
    "\n",
    "We now give the pseudocode for a brute force solution to the Median String Problem.\n",
    "\n",
    "![medianstringbrute](data/medianstringbrute.png)\n",
    "\n",
    "Firstly, let's implement an auxiliary function to make the sum of distances between patterns and the dna's strings.\n",
    "\n",
    "![distancebetweenpatternandstring](data/distancebetweenpatternandstring.png)"
   ]
  },
  {
   "cell_type": "code",
   "execution_count": 1,
   "metadata": {},
   "outputs": [],
   "source": [
    "import numpy as np\n",
    "\n",
    "def HammingDistance(text1, text2):\n",
    "\tcount = 0\n",
    "\tfor x, y in zip(text1, text2):\n",
    "\t  if x != y:\n",
    "\t  \tcount += 1\n",
    "\treturn count\n",
    "\n",
    "def DistanceBetweenPatternAndStrings(pattern, dna):\n",
    "\tk = len(pattern)\n",
    "\tdistance = 0 \n",
    "\tdna2 = dna.split(\" \")\n",
    "\n",
    "\tfor text in dna2:\n",
    "\t\thamming_distance = np.inf\n",
    "\t\tfor i in range(len(text) - k + 1):\n",
    "\t\t\tpattern2 = text[i: i+k]\n",
    "\t\t\ttemp = HammingDistance(pattern, pattern2)\n",
    "\n",
    "\t\t\tif hamming_distance > temp:\n",
    "\t\t\t\thamming_distance = temp\n",
    "\n",
    "\t\tdistance += hamming_distance\n",
    "\treturn distance"
   ]
  },
  {
   "cell_type": "code",
   "execution_count": 2,
   "metadata": {},
   "outputs": [
    {
     "data": {
      "text/plain": [
       "5"
      ]
     },
     "execution_count": 2,
     "metadata": {},
     "output_type": "execute_result"
    }
   ],
   "source": [
    "DistanceBetweenPatternAndStrings(\"AAA\", \"TTACCTTAAC GATATCTGTC ACGGCGTTCG CCCTAAAGAG CGTCAGAGGT\")"
   ]
  },
  {
   "cell_type": "markdown",
   "metadata": {},
   "source": [
    "To solve the Median String Problem, we need to iterate through all possible $4^{k}$ k-mers Pattern before computing d(Pattern, Dna). The pseudocode below is a modification of MedianString using the function NumberToPattern (implemented in previous sections, which is applied to convert all integers from 0 to $4^{k}$ - 1 into all possible k-mers.\n",
    "\n",
    "![medianstringnumber2pattern](data/medianstringnumber2pattern.png)"
   ]
  },
  {
   "cell_type": "code",
   "execution_count": 3,
   "metadata": {},
   "outputs": [],
   "source": [
    "def NumberToPattern(index, k):\n",
    "\tLastSymbol = {0:'A', 1: 'C', 2: 'G', 3: 'T'}\n",
    "\t\n",
    "\tif k == 1:\n",
    "\t\treturn LastSymbol[index]\n",
    "\n",
    "\tprefixIndex = index // 4\n",
    "\tr = index % 4\n",
    "\tsymbol = LastSymbol[r]\n",
    "\tPrefixPattern = NumberToPattern(prefixIndex, k - 1)\n",
    "\treturn PrefixPattern + symbol\n",
    "\n",
    "def MedianString(dna, k):\n",
    "\tdistance = np.inf\n",
    "\n",
    "\tfor i in range(4**k):\n",
    "\t\tpattern = NumberToPattern(i, k)\n",
    "\t\ttemp = DistanceBetweenPatternAndStrings(pattern, dna)\n",
    "\n",
    "\t\tif distance > temp:\n",
    "\t\t\tdistance = temp\n",
    "\t\t\tmedian = pattern\n",
    "\n",
    "\treturn median"
   ]
  },
  {
   "cell_type": "code",
   "execution_count": 4,
   "metadata": {},
   "outputs": [
    {
     "data": {
      "text/plain": [
       "'GAC'"
      ]
     },
     "execution_count": 4,
     "metadata": {},
     "output_type": "execute_result"
    }
   ],
   "source": [
    "MedianString(\"AAATTGACGCAT GACGACCACGTT CGTCAGCGCCTG GCTGAGCACCGG AGTTCGGGACAG\", 3)"
   ]
  },
  {
   "cell_type": "markdown",
   "metadata": {},
   "source": [
    "We have thus far assumed that the value of k is known in advance, which is not the case in practice. As a result, we are forced to run our motif finding algorithms for different values of k and then try to deduce the correct motif length. Since some regulatory motifs are rather long, we will search for a biologically important motif of length 20 — MedianString may be too slow to find them.\n",
    "\n",
    "## Profile-most Probable k-mer Problem\n",
    "\n",
    "We will explore a greedy approach to motif finding. Let Motifs be a collection of k-mers taken from t strings Dna. Recall from the previous discussion about entropy that we can view each column of Profile(Motifs) as a four-sided biased die. Thus, a profile matrix with k columns can be viewed as a collection of k dice, which we will roll to randomly generate a k-mer. For example, if the first column of the profile matrix is (0.2, 0.1, 0.0, 0.7), then we generate A as the first nucleotide with probability 0.2, C with probability 0.1, G with probability 0.0, and T with probability 0.7.\n",
    "\n",
    "Given a profile matrix Profile, we can evaluate the probability of every k-mer in a string Text and find a Profile-most probable k-mer in Text, i.e., a k-mer that was most likely to have been generated by Profile among all k-mers in Text. For example, ACGGGGATTACC is the Profile-most probable 12-mer in GGTACGGGGATTACCT. Indeed, every other 12-mer in this string has probability 0. In general, if there are multiple Profile-most probable k-mers in Text, then we select the first such k-mer occurring in Text.\n",
    "\n"
   ]
  },
  {
   "cell_type": "code",
   "execution_count": 5,
   "metadata": {},
   "outputs": [],
   "source": [
    "def ProfileMostProbable(dna, k, profileMatrixRows):\n",
    "\thProb = 0.0\n",
    "\ttempProb = 1.0\n",
    "\tpatternHighProb = \"\"\n",
    "\n",
    "\tfor i in range(len(dna) - k + 1):\n",
    "\t\tpattern = dna[i: i+k]\n",
    "\t\tfor s in range(len(pattern)):\n",
    "\t\t\tif pattern[s] == 'T':\n",
    "\t\t\t\ttempProb *= float(profileMatrixRows[3][s])\n",
    "\t\t\telif pattern[s] == 'G':\n",
    "\t\t\t\ttempProb *= float(profileMatrixRows[2][s])\n",
    "\t\t\telif pattern[s] == 'C':\n",
    "\t\t\t\ttempProb *= float(profileMatrixRows[1][s])\n",
    "\t\t\telif pattern[s] == 'A':\n",
    "\t\t\t\ttempProb *= float(profileMatrixRows[0][s])\n",
    "\n",
    "\t\tif tempProb > hProb:\n",
    "\t\t\thProb = tempProb\n",
    "\t\t\tpatternHighProb = pattern\n",
    "\t\ttempProb = 1.0\n",
    "\n",
    "\treturn patternHighProb"
   ]
  },
  {
   "cell_type": "code",
   "execution_count": 7,
   "metadata": {},
   "outputs": [
    {
     "name": "stdout",
     "output_type": "stream",
     "text": [
      "CCGAG\n"
     ]
    }
   ],
   "source": [
    "with open(\"data/example_profile.txt\") as f:\n",
    "\t\tlines = [line.rstrip().split(\" \") for line in f]\n",
    "        \n",
    "print(ProfileMostProbable('ACCTGTTTATTGCCTAAGTTCCGAACAAACCCAATATAGCCCGAGGGCCT', 5, lines))"
   ]
  },
  {
   "cell_type": "code",
   "execution_count": null,
   "metadata": {},
   "outputs": [],
   "source": []
  }
 ],
 "metadata": {
  "kernelspec": {
   "display_name": "Python 3",
   "language": "python",
   "name": "python3"
  },
  "language_info": {
   "codemirror_mode": {
    "name": "ipython",
    "version": 3
   },
   "file_extension": ".py",
   "mimetype": "text/x-python",
   "name": "python",
   "nbconvert_exporter": "python",
   "pygments_lexer": "ipython3",
   "version": "3.7.3"
  }
 },
 "nbformat": 4,
 "nbformat_minor": 2
}
