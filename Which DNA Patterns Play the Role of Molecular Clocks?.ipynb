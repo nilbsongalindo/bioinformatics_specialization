{
 "cells": [
  {
   "cell_type": "markdown",
   "metadata": {},
   "source": [
    "## Do We Have a \"Clock\" Gene?\n",
    "\n",
    "The ordinary activities in animals and plants organisms follow some daily schedule. This kind of internal timekeeper are called circadian clock. The circadian clock can malfunction, resulting in a genetic disease known as delayed sleep-phase syndrome (DSPS). But there's must be some kind of hidden message inside of animals/plants genes to tell them when they should slow down or increase the production of certain proteins.\n",
    "\n",
    "Let's keep focus on plants, because keep track of day time is a life or death question. They genes must somehow know what time it is in order to change their gene transcript production, or gene expression, throughout the day.\n",
    "There's about three plant genes called LHY, CCA1, and TOC1, are the clock’s master timekeepers. They encode regulatory proteins that are often controlled by external factors (e.g., nutrient availability or sunlight) in order to allow organisms to adjust their gene expression.\n",
    "\n",
    "The circadian clock regulation in plants  happens as follows. TOC1 promotes the expression of LHY and CCA1, whereas LHY and CCA1 repress the expression of TOC1. In the morning, sunlight activates the transcription of LHY and CCA1, triggering the repression of TOC1 transcription. As light diminishes, so does the production of LHY and CCA1, which in turn do not repress TOC1 any more. Transcription of TOC1 peaks at night and starts promoting the transcription of LHY and CCA1, which in turn repress the transcription of TOC1, and the cycle begins again. \n",
    "\n",
    "\n",
    "LHY, CCA1, and TOC1 are able to control the transcription of other genes because the regulatory proteins that they encode are transcription factors, or master regulatory proteins that turn other genes on and off. A transcription factor regulates a gene by binding to a specific short DNA interval called a regulatory motif, or transcription factor binding site, in the gene's upstream region, a 600-1000 nucleotide-long region preceding the start of the gene. For example, CCA1 binds to AAAAAATCT in the upstream region of many genes regulated by CCA1.\n",
    "\n",
    "\n",
    "## Motif Finding\n",
    "\n",
    "Putting a 15-mers hidden message at some random positions in each one of the Dna strands, we could locate them all using our frequent words algorithm.\n",
    "\n",
    "![Motif](data/motif.png)\n",
    "\n",
    "But if we realize some mutation in the sequence before insert it into the strand changing the nucleotides at four randomly selected positions within each implanted 15-mer, we could locate them with our frequent words algorithm?\n",
    "\n",
    "![Motif2](data/motif2.png)\n",
    "\n",
    "The answer is no. Our previous solution to the frequent words problem couldn't find them, since the AAAAAAAAGGGGGGG pattern don't even appears in the strands. But our solution to the frequent words problem with mismatches could do the job, but this algorithm is likely to become too slow when searching for the implanted motif above, which is longer and has more mutations, so it became inadequate in real biological applications.\n",
    "\n",
    "Furthermore, the Frequent Words Problem is inadequate because it does not correctly model the biological problem of motif finding. A DnaA box is a pattern that clumps, or appears frequently, within a relatively short interval of the genome. In contrast, a regulatory motif is a pattern that appears at least once (perhaps with variation) in each of many different regions that are scattered throughout the genome."
   ]
  },
  {
   "cell_type": "code",
   "execution_count": null,
   "metadata": {},
   "outputs": [],
   "source": []
  }
 ],
 "metadata": {
  "kernelspec": {
   "display_name": "Python 3",
   "language": "python",
   "name": "python3"
  },
  "language_info": {
   "codemirror_mode": {
    "name": "ipython",
    "version": 3
   },
   "file_extension": ".py",
   "mimetype": "text/x-python",
   "name": "python",
   "nbconvert_exporter": "python",
   "pygments_lexer": "ipython3",
   "version": "3.7.3"
  }
 },
 "nbformat": 4,
 "nbformat_minor": 2
}
