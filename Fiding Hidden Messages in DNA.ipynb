{
 "cells": [
  {
   "cell_type": "code",
   "execution_count": 1,
   "metadata": {},
   "outputs": [],
   "source": [
    "#Importing the libraries\n",
    "import numpy as np\n",
    "import matplotlib.pyplot as plt\n",
    "%matplotlib inline"
   ]
  },
  {
   "cell_type": "markdown",
   "metadata": {},
   "source": [
    "## DnaA boxes"
   ]
  },
  {
   "cell_type": "markdown",
   "metadata": {},
   "source": [
    "DnaA protein are binded to regions called dnaA boxes in the region knowed as ori, where the replication processes begin. Finding ori is one of the key tasks to understand how cells replicate. First lets search for frequent characters in ori, because some nucleotide string appear surprisingly often in small regions of genome. \n",
    "We will start with a bacterium called Vibrio cholerae, and then design a computational approach for finding ori in other bacteria genomes.\n",
    "\n",
    "Here is the nucleotide sequence appearing in the ori of Vibrio cholerae:\n",
    "\n",
    "![ORI vibrio](data/Screenshot_20200712_003201.png)"
   ]
  },
  {
   "cell_type": "markdown",
   "metadata": {},
   "source": [
    "## K-mer"
   ]
  },
  {
   "cell_type": "markdown",
   "metadata": {},
   "source": [
    "One possible approach is design a \"sliding window\" that will go through the text checking where each substring of the input text matches with the pattern that we are looking for\n",
    "\n",
    "K-mer pseudocode:\n",
    "\n",
    "![Pseudocode k-mer](data/k-mer.png)"
   ]
  },
  {
   "cell_type": "markdown",
   "metadata": {},
   "source": [
    "Using the python language, let's implement the pseudocode.\n",
    "\n",
    "ps: Obviously, in python language, there is a lot of ways of doing so, many of them much more efficient and simple, but lets keep the code more like the pseudocode"
   ]
  },
  {
   "cell_type": "code",
   "execution_count": 2,
   "metadata": {},
   "outputs": [],
   "source": [
    "def PatternCount(text, pattern):\n",
    "\tcount = 0\n",
    "\n",
    "\tfor i in range(len(text) - len(pattern)):\n",
    "\t\tif text[i: i + len(pattern)] == pattern:\n",
    "\t\t\tcount += 1\n",
    "\treturn count"
   ]
  },
  {
   "cell_type": "code",
   "execution_count": 3,
   "metadata": {},
   "outputs": [
    {
     "name": "stdout",
     "output_type": "stream",
     "text": [
      "13125\n"
     ]
    }
   ],
   "source": [
    "#Example\n",
    "text = open(\"data/ori_vibrio.txt\", \"r\")\n",
    "texto = text.read()\n",
    "count = PatternCount(texto, 'CCG')\n",
    "print(count)"
   ]
  },
  {
   "cell_type": "markdown",
   "metadata": {},
   "source": [
    "## Frequent word\n",
    "We say that a pattern is a most frequent k-mer in the input text if it maximizes Count(Text, Pattern) among all k-mers. For instance, ACTAT is a most frequent 5-mer of ACAACTATGCATACTATCGGGAACTATCCT.\n",
    "\n",
    "One algorithm for finding the most frequent k-mers in a string checks all k-mers appearing in this input string, then computes how many times each k-mer appears in the string. To implement this FrequentWords algorithm, lets make an array Count, where Count(i) stores Count(Text, Pattern) for Pattern = Text(i, k).\n",
    "\n",
    "Frequentwords pseudocode:\n",
    "![Pseudocode frequentwords](data/frequentwords.png)"
   ]
  },
  {
   "cell_type": "code",
   "execution_count": 4,
   "metadata": {},
   "outputs": [],
   "source": [
    "def FrequentWordsProblem(text, k):\n",
    "\tfrequentPatterns = []\n",
    "\tcount = np.zeros(shape=(len(text) - k + 1))\n",
    "\n",
    "\tfor i in range(len(text) - k):\n",
    "\t\tpattern = text[i: i + k]\n",
    "\t\tcount[i] = PatternCount(text, pattern)\n",
    "\n",
    "\tmax_count_indicies = np.where(count == np.max(count))\n",
    "\t\n",
    "\tfor i in max_count_indicies[0]:\n",
    "\t\tif text[i:i+k] not in frequentPatterns:\n",
    "\t\t\tfrequentPatterns.append(text[i:i+k])\n",
    "\treturn frequentPatterns"
   ]
  },
  {
   "cell_type": "code",
   "execution_count": 5,
   "metadata": {
    "scrolled": true
   },
   "outputs": [
    {
     "name": "stdout",
     "output_type": "stream",
     "text": [
      "['GCAT', 'CATG']\n"
     ]
    }
   ],
   "source": [
    "frequent = FrequentWordsProblem('ACGTTGCATGTCGCATGATGCATGAGAGCT', 4)\n",
    "print(frequent)"
   ]
  },
  {
   "cell_type": "markdown",
   "metadata": {},
   "source": [
    "FrequentWords finds most frequent k-mers, but is not very efficient. Each call to PatternCount function checks whether the k-mer pattern appears in all positions of the text. Since each k-mer requires |Text| − k + 1 such checks, each one requiring as many as k comparisons, the overall number of steps of PatternCount is (|Text| − k + 1) · k. Furthermore, FrequentWords must call PatternCount |Text| − k + 1 times (once for each k-mer of Text), so that its overall number of steps is (|Text| − k + 1) · (|Text| − k + 1) · k."
   ]
  },
  {
   "cell_type": "markdown",
   "metadata": {},
   "source": [
    "## Searching for hidden messages in multiple genomes\n",
    "\n",
    "Not all bacteria has the same DnaA boxes. Let's take a look at some the ori region of Thermotoga petrophila and Vibrio cholerae."
   ]
  },
  {
   "cell_type": "code",
   "execution_count": 6,
   "metadata": {},
   "outputs": [
    {
     "name": "stdout",
     "output_type": "stream",
     "text": [
      "['acctaccac']\n"
     ]
    }
   ],
   "source": [
    "#Thermotoga petrophila \n",
    "frequent = FrequentWordsProblem('aactctatacctcctttttgtcgaatttgtgtgatttatagagaaaatcttattaactga'+ \\\n",
    "    'aactaaaatggtaggtttggtggtaggttttgtgtacattttgtagtatctgatttttaa' + \\\n",
    "    'ttacataccgtatattgtattaaattgacgaacaattgcatggaattgaatatatgcaaa' + \\\n",
    "    'acaaacctaccaccaaactctgtattgaccattttaggacaacttcagggtggtaggttt' + \\\n",
    "    'ctgaagctctcatcaatagactattttagtctttacaaacaatattaccgttcagattca' + \\\n",
    "    'agattctacaacgctgttttaatgggcgttgcagaaaacttaccacctaaaatccagtat' + \\\n",
    "    'ccaagccgatttcagagaaacctaccacttacctaccacttacctaccacccgggtggta' + \\\n",
    "    'agttgcagacattattaaaaacctcatcagaagcttgttcaaaaatttcaatactcgaaa' + \\\n",
    "    'cctaccacctgcgtcccctattatttactactactaataatagcagtataattgatctga', 9)\n",
    "\n",
    "print(frequent)"
   ]
  },
  {
   "cell_type": "code",
   "execution_count": 7,
   "metadata": {},
   "outputs": [
    {
     "name": "stdout",
     "output_type": "stream",
     "text": [
      "['atgatcaag', 'ctcttgatc', 'tcttgatca', 'cttgatcat']\n"
     ]
    }
   ],
   "source": [
    "#Vibrio cholerae\n",
    "frequent = FrequentWordsProblem('atcaatgatcaacgtaagcttctaagcatgatcaaggtgctcacacagtttatccacaac'+ \\\n",
    "'ctgagtggatgacatcaagataggtcgttgtatctccttcctctcgtactctcatgacca'+ \\\n",
    "'cggaaagatgatcaagagaggatgatttcttggccatatcgcaatgaatacttgtgactt'+ \\\n",
    "'gtgcttccaattgacatcttcagcgccatattgcgctggccaaggtgacggagcgggatt'+ \\\n",
    "'acgaaagcatgatcatggctgttgttctgtttatcttgttttgactgagacttgttagga'+ \\\n",
    "'tagacggtttttcatcactgactagccaaagccttactctgcctgacatcgaccgtaaat'+ \\\n",
    "'tgataatgaatttacatgcttccgcgacgatttacctcttgatcatcgatccgattgaag'+ \\\n",
    "'atcttcaattgttaattctcttgcctcgactcatagccatgatgagctcttgatcatgtt'+ \\\n",
    "'tccttaaccctctattttttacggaagaatgatcaagctgctgctcttgatcatcgtttc', 9)\n",
    "\n",
    "print(frequent)"
   ]
  },
  {
   "cell_type": "markdown",
   "metadata": {},
   "source": [
    "## The Clump Finding Problem\n",
    "\n",
    "We can define a k-mer as a \"clump\" if it appears t times within a interval L of the genome. So instead of finding clumps of a specific k-mer, let’s try to find every k-mer that forms a clump in the genome, because different genomes may use a completely different hidden messages.\n",
    "We can solve the Clump Finding Problem by applying our FrequentWords algorithm to each window of length L in Genome. If your FrequentWords implementation is not very efficient, then such an approach may be impractical. Recall that FrequentWords has O(L2 · k) running time. Applying this algorithm to each window of length L in Genome will result in an algorithm with O(L2 · k · |Genome|) running time. \n",
    "\n",
    "Firstly, let's solve the clump finding problem with our implementation of FrequentWords without frequency array. Then, let's improve our solution to FrequentWords algorithm, solve the clump finding \n",
    "problem and see the performances for both of the approaches.\n",
    "\n",
    "\n",
    "Pseudocode:\n",
    "![Pseudocode clump](data/clump.png)\n"
   ]
  },
  {
   "cell_type": "markdown",
   "metadata": {},
   "source": [
    "Let's do some modifications in our FrequentWords function to check which k-mers appears at least T or more times, instead of only get the maximum value of the ocurrencies of the k-mer. Then, let's implement the above pseudocode for the clumping finding algorithm."
   ]
  },
  {
   "cell_type": "code",
   "execution_count": 25,
   "metadata": {},
   "outputs": [],
   "source": [
    "def FrequentWordsProblem(text, k, t):\n",
    "\tfrequentPatterns = []\n",
    "\tcount = np.zeros(shape=(len(text) - k + 1))\n",
    "\n",
    "\n",
    "\tfor i in range(len(text) - k):\n",
    "\t\tpattern = text[i: i + k]\n",
    "\t\tcount[i] = PatternCount(text, pattern)\n",
    "\n",
    "\tif t == None:\n",
    "\t\tt = np.max(count) \n",
    "\n",
    "\tmax_count_indicies = np.where(count >= t)\n",
    "\t\n",
    "\tfor i in max_count_indicies[0]:\n",
    "\t\tif text[i:i+k] not in frequentPatterns:\n",
    "\t\t\tfrequentPatterns.append(text[i:i+k])\n",
    "\treturn frequentPatterns"
   ]
  },
  {
   "cell_type": "code",
   "execution_count": 26,
   "metadata": {},
   "outputs": [],
   "source": [
    "def ClumpingFinding(text, k, l, t):\n",
    "\tcount_kmer = []\n",
    "\tcount = []\n",
    "\tfor i in range(len(text) - l):\n",
    "\t\t\tk_mer = text[i:i+l]\n",
    "\t\t\tfreq = FrequentWordsProblem(k_mer, k, t)\n",
    "\t\t\tcount = [x for x in freq if x not in count_kmer]\n",
    "\t\t\tif len(count) != 0: count_kmer.extend(count)\n",
    "\n",
    "\treturn count_kmer"
   ]
  },
  {
   "cell_type": "code",
   "execution_count": 15,
   "metadata": {},
   "outputs": [
    {
     "name": "stdout",
     "output_type": "stream",
     "text": [
      "['AAACCAGGTGG']\n",
      "['AAACCAGGTGG']\n",
      "['AAACCAGGTGG']\n",
      "['AAACCAGGTGG']\n",
      "['AAACCAGGTGG']\n",
      "['AAACCAGGTGG']\n",
      "['AAACCAGGTGG']\n",
      "['AAACCAGGTGG']\n",
      "2min 18s ± 270 ms per loop (mean ± std. dev. of 7 runs, 1 loop each)\n"
     ]
    }
   ],
   "source": [
    "text = open(\"data/clump_test.txt\", \"r\")\n",
    "texto = text.read()\n",
    "%timeit print(ClumpingFinding(texto, 11, 566, 18))"
   ]
  },
  {
   "cell_type": "markdown",
   "metadata": {},
   "source": [
    "Using the %timeit command, our implementation of clumping Finding will execute a couple of times, which allow us get the mean from the execution times to evaluate our performances. The algorithm returned 'AAACCAGGTGG' as answer for our test.\n",
    "\n",
    "Let's improve our FrequentWords to use an array of frequences.\n",
    "\n",
    "We will first order all 4k k-mers lexicographically and then convert them into the 4k different integers between 0 and 4k − 1. Given an integer k, we define the frequency array of a string Text as an array of length 4k, where the i-th element of the array holds the number of times that the i-th k-mer (in the lexicographic order) appears in Text.\n",
    "\n",
    "![fast_freq](data/fast_freq2.png)\n",
    "\n",
    "The pseudocode below generates a frequency array by first initializing every element in the frequency array to zero (4k operations) and then making a single pass down Text (approximately |Text| · k operations). For each k-mer Pattern that we encounter, we add 1 to the value of the frequency array corresponding to Pattern. As before, we refer to the k-mer beginning at position i of Text as Text(i, k).\n",
    "\n",
    "![fast_freq_pseudo](data/computing_freq.png)\n",
    "\n",
    "\n",
    "Next, we can find all most frequent k-mers by finding all k-mers corresponding to the maximum elements in frequency array.\n",
    "\n",
    "![fast_freq_pseudo2](data/fast_freq.png)\n"
   ]
  },
  {
   "cell_type": "code",
   "execution_count": 16,
   "metadata": {},
   "outputs": [],
   "source": [
    "def ComputingFrequencies(text, k):\n",
    "\tfrequencyArray = np.zeros(4**k)\n",
    "\tfor i in range(len(text) - k + 1):\n",
    "\t\tpattern = text[i: i+k]\n",
    "\t\tj = PatternToNumber(pattern)\n",
    "\t\tfrequencyArray[j] += 1\n",
    "\treturn frequencyArray"
   ]
  },
  {
   "cell_type": "code",
   "execution_count": 30,
   "metadata": {},
   "outputs": [],
   "source": [
    "def FasterFrequentWords(text, k, t):\n",
    "\tfrequentPatterns = []\n",
    "\tfrequencyArray = ComputingFrequencies(text, k)\n",
    "\t\n",
    "\tif t == None:\n",
    "\t\tt = np.max(frequencyArray)\n",
    "\n",
    "\tmax_count_indicies = np.where(frequencyArray >= t)\n",
    "\t\n",
    "\tfor i in max_count_indicies[0]:\n",
    "\t\tpattern = NumberToPattern(i,k)\n",
    "\t\tif pattern not in frequentPatterns:\n",
    "\t\t\tfrequentPatterns.append(pattern)\n",
    "\treturn frequentPatterns"
   ]
  },
  {
   "cell_type": "markdown",
   "metadata": {},
   "source": [
    "The pseudocode below slides a window of length L down Genome. After computing the frequency array for the current window, it identifies (L, t)-clumps simply by finding which k-mers occur at least t times within the window. To keep track of these clumps, our algorithm uses an array Clump of length 4k whose values are all initialized to zero. For each value of i between 0 and 4k − 1, we will set Clump(i) equal to 1 if NumberToPattern(i, k) forms an (L, t)-clump in Genome.\n",
    "\n",
    "![clump_pseudo2](data/clump2.png)\n",
    "\n",
    "Before implement the clumpFinding, let's implement some auxiliary functions.\n",
    "We will need a function to transform a pattern in some number. If we remove the final symbol from all lexicographically ordered k-mers, the resulting list is still ordered lexicographically. In the case of DNA strings, every (k − 1)-mer in the resulting list is repeated four times.\n",
    "\n",
    "![pattern2number](data/pattern2number.png)\n",
    "\n",
    "Pseudocode:\n",
    "\n",
    "![pattern2numberpseudo](data/patter2number2.png)\n"
   ]
  },
  {
   "cell_type": "code",
   "execution_count": 20,
   "metadata": {},
   "outputs": [],
   "source": [
    "def PatternToNumber(pattern):\n",
    "\tif len(pattern) == 0:\n",
    "\t\treturn 0\n",
    "\tLastSymbol = {'A':0, 'C': 1, 'G': 2, 'T': 3}\n",
    "\tsymbol = LastSymbol[pattern[-1]]\n",
    "\tPrefix = pattern[:-1]\n",
    "\treturn 4 * PatternToNumber(Prefix) + symbol"
   ]
  },
  {
   "cell_type": "code",
   "execution_count": 21,
   "metadata": {},
   "outputs": [
    {
     "data": {
      "text/plain": [
       "11"
      ]
     },
     "execution_count": 21,
     "metadata": {},
     "output_type": "execute_result"
    }
   ],
   "source": [
    "PatternToNumber('AGT')"
   ]
  },
  {
   "cell_type": "markdown",
   "metadata": {},
   "source": [
    "To make the inverse function, NumberToPattern, basically, we need to follow this equation:\n",
    "\n",
    "PatternToNumber(Pattern) = 4 · PatternToNumber(Prefix(Pattern)) + SymbolToNumber(LastSymbol(Pattern))\n",
    "\n",
    "Let's see an example after computed NumberToPattern(9904, 7)\n",
    "\n",
    "![number2pattern](data/number2pattern.png)\n",
    "\n",
    "Pseudocode:\n",
    "\n",
    "![number2pattern](data/number2patternps.png)\n",
    "\n"
   ]
  },
  {
   "cell_type": "code",
   "execution_count": 22,
   "metadata": {},
   "outputs": [],
   "source": [
    "def NumberToPattern(index, k):\n",
    "\tLastSymbol = {0:'A', 1: 'C', 2: 'G', 3: 'T'}\n",
    "\t\n",
    "\tif k == 1:\n",
    "\t\treturn LastSymbol[index]\n",
    "\n",
    "\tprefixIndex = index // 4\n",
    "\tr = index % 4\n",
    "\tsymbol = LastSymbol[r]\n",
    "\tPrefixPattern = NumberToPattern(prefixIndex, k - 1)\n",
    "\treturn PrefixPattern + symbol"
   ]
  },
  {
   "cell_type": "code",
   "execution_count": 23,
   "metadata": {},
   "outputs": [
    {
     "data": {
      "text/plain": [
       "'AGTC'"
      ]
     },
     "execution_count": 23,
     "metadata": {},
     "output_type": "execute_result"
    }
   ],
   "source": [
    "NumberToPattern(45, 4)"
   ]
  },
  {
   "cell_type": "markdown",
   "metadata": {},
   "source": [
    "Now, let's proceed and implement the Clumping Finding pseudocode that we saw before. Again, using the %timeit command, we will execute our function a couple of times and compare the results with our previous implementation using the same file"
   ]
  },
  {
   "cell_type": "code",
   "execution_count": 31,
   "metadata": {},
   "outputs": [],
   "source": [
    "def ClumpingFinding2(text, k, l, t):\n",
    "\tcount_kmer = []\n",
    "\tcount = []\n",
    "\tfor i in range(len(text) - l):\n",
    "\t\t\tk_mer = text[i:i+l]\n",
    "\t\t\tfreq = FasterFrequentWords(k_mer, k, t)\n",
    "\t\t\tcount = [x for x in freq if x not in count_kmer]\n",
    "\t\t\tif len(count) != 0: count_kmer.extend(count)\n",
    "\n",
    "\treturn count_kmer"
   ]
  },
  {
   "cell_type": "code",
   "execution_count": 32,
   "metadata": {},
   "outputs": [
    {
     "name": "stdout",
     "output_type": "stream",
     "text": [
      "['AAACCAGGTGG']\n",
      "['AAACCAGGTGG']\n",
      "['AAACCAGGTGG']\n",
      "['AAACCAGGTGG']\n",
      "['AAACCAGGTGG']\n",
      "['AAACCAGGTGG']\n",
      "['AAACCAGGTGG']\n",
      "['AAACCAGGTGG']\n",
      "24.5 s ± 45.1 ms per loop (mean ± std. dev. of 7 runs, 1 loop each)\n"
     ]
    }
   ],
   "source": [
    "text = open(\"data/clump_test.txt\", \"r\")\n",
    "texto = text.read()\n",
    "%timeit print(ClumpingFinding2(texto, 11, 566, 18))"
   ]
  },
  {
   "cell_type": "markdown",
   "metadata": {},
   "source": [
    "To improve ClumpFinding, we observe that when we slide our window of length L one symbol to the right, the frequency array does not change much, and so regenerating the frequency array from scratch is inefficient. For example, the figure below shows the frequency arrays (k = 2) for the 13-mers Text = AAGCAAAGGTGGG and Text′ = AGCAAAGGTGGGC starting at positions 0 and 1 of the 14-mer AAGCAAAGGTGGGC. These two frequency arrays differ in only two elements corresponding to the first k-mer in Text (AA) and the last k-mer in Text’ (GC). \n",
    "\n",
    "![improveClumps](data/number2patternps.png)"
   ]
  }
 ],
 "metadata": {
  "kernelspec": {
   "display_name": "Python 3",
   "language": "python",
   "name": "python3"
  },
  "language_info": {
   "codemirror_mode": {
    "name": "ipython",
    "version": 3
   },
   "file_extension": ".py",
   "mimetype": "text/x-python",
   "name": "python",
   "nbconvert_exporter": "python",
   "pygments_lexer": "ipython3",
   "version": "3.7.3"
  }
 },
 "nbformat": 4,
 "nbformat_minor": 2
}
