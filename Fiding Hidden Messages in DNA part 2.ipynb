{
 "cells": [
  {
   "cell_type": "markdown",
   "metadata": {},
   "source": [
    "## Asymmetry of Replication\n",
    "\n",
    "  In this second part, let's focus on other approaches to find ori and have a better understanding about the replication processes.\n",
    "  The replication process begins at ori, as we already saw in the previous section. The replication happens with the reverse half-strands at first (thick lines shown in the figure) and after happens in the foward half-strands. \n",
    "  \n",
    "  ![Asymmetry](data/replication.png)\n",
    "  \n",
    "  \n",
    "  Firstly, the Dna polymerase must wait until the replication fork has open some space (about 2000 nucleotide), where a new primer (showed in red) will be formed at the end of the replication fork. The DNA polymerase starts replicating a small chunk of DNA starting from this primer and moving backward in the direction of ori. When the two DNA polymerases on forward half-strands reach ori, we have the situation shown below.\n",
    "\n",
    "![Asymmetry2](data/replication2.png)\n",
    "\n",
    "\n",
    "The replication on a forward half-strand requires occasional stopping and restarting, which results in the synthesis of short Okazaki fragments from multiple primers that are complementary to intervals on the forward half-strands.\n",
    "\n",
    "![Asymmetry3](data/replication3.png)\n",
    "\n",
    "When the replication fork reaches ter (Replication terminus), the replication process is almost complete, as all DNA has been synthesized. However, gaps still remain between the disconnected Okazaki fragments.\n",
    "\n",
    "![Asymmetry4](data/replication4.png)\n",
    "\n",
    "The consecutive Okazaki fragments are sewn together by an enzyme called DNA ligase, resulting in two intact daughter chromosomes, each consisting of one parent strand and one newly synthesized daughter strand.\n",
    "\n",
    "![Asymmetry5](data/replication5.png)\n",
    "\n",
    "## Deamination\n",
    "\n",
    "  The asymmetry of the replication process causes what is call Deamination. The replication on the reversed half-strand happens much more quickly than in the forward half-strands. As consequence, the ones which are in a single strand configuration the most of the time (foward half-strands) are more propence to suffer mutations in one of the nucleotides. This way, we should observe a shortage of this nucleotide on the forward half-strand.\n",
    "  Let’s compare the nucleotide counts of the reverse and forward half-strands of the Thermotoga petrophila genome. \n",
    "  \n",
    "  ![Asymmetry6](data/count_des.png)\n",
    "  \n",
    "  As we can see, cytosine (C) is much more frequent on the reverse half-strand, because C has a tendency to turn into Thymine (T) in the forward half-strand through the deamination process. Therefore, will be a sort of substituition in some level from C-G to A-T basis. This way, we can observe a decrease in guanine (G) on the reverse half-strand (since that a forward parent half-strand synthesizes a reverse daughter half-strand, and vice-versa).We can use this particularity to find the ori region.\n",
    "  \n",
    "  ![Asymmetry7](data/count_des2.png)\n",
    "  \n",
    "## The skew diagram\n",
    "\n",
    " Since the genome is a circular sequence, firstly let's linearize it. Select an arbitrary position i, and let's assume that i is the begin of the sequence and will until the end of it. This way, we got a linear sequence  like the ones we analized before.\n",
    " To compute the skew at the genome's positions, let's do as it follows: If the nucleotide at position i is G, then $Skew_{i+1}(Genome)$ = $Skew_{i}(Genome)$ + 1; if this nucleotide is C, then $Skew_{i+1}(Genome)$ = $Skew_{i}(Genome)$ – 1; otherwise, $Skew_{i+1}(Genome)$ = $Skew_{i}(Genome)$.\n",
    " \n",
    " ![Skew](data/skew.png)\n",
    " \n",
    " We already saw that the skew is decreasing along the reverse half-strand and increasing along the forward half-strand. So we can supose that ori is located at the skew's minimum, because is where the reverse half-strand ends and the forward half-strand begins.\n",
    "\n",
    "Now we show the skew diagram for a linearized E. coli genome.\n",
    "\n",
    " ![Skew2](data/skew2.png)"
   ]
  },
  {
   "cell_type": "code",
   "execution_count": 1,
   "metadata": {},
   "outputs": [],
   "source": [
    "#Minimum Skew Problem\n",
    "#Find a position in a genome where the skew diagram attains a minimum."
   ]
  },
  {
   "cell_type": "code",
   "execution_count": null,
   "metadata": {},
   "outputs": [],
   "source": []
  }
 ],
 "metadata": {
  "kernelspec": {
   "display_name": "Python 3",
   "language": "python",
   "name": "python3"
  },
  "language_info": {
   "codemirror_mode": {
    "name": "ipython",
    "version": 3
   },
   "file_extension": ".py",
   "mimetype": "text/x-python",
   "name": "python",
   "nbconvert_exporter": "python",
   "pygments_lexer": "ipython3",
   "version": "3.7.3"
  }
 },
 "nbformat": 4,
 "nbformat_minor": 2
}
